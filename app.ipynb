{
 "cells": [
  {
   "cell_type": "code",
   "execution_count": 15,
   "id": "de0fc005-24b6-461a-95de-1ed8f0083bd7",
   "metadata": {},
   "outputs": [
    {
     "ename": "NameError",
     "evalue": "name '_name_' is not defined",
     "output_type": "error",
     "traceback": [
      "\u001b[1;31m---------------------------------------------------------------------------\u001b[0m",
      "\u001b[1;31mNameError\u001b[0m                                 Traceback (most recent call last)",
      "Cell \u001b[1;32mIn[15], line 6\u001b[0m\n\u001b[0;32m      3\u001b[0m \u001b[38;5;28;01mimport\u001b[39;00m \u001b[38;5;21;01mnumpy\u001b[39;00m \u001b[38;5;28;01mas\u001b[39;00m \u001b[38;5;21;01mnp\u001b[39;00m\n\u001b[0;32m      5\u001b[0m \u001b[38;5;66;03m#Initialize Flask app\u001b[39;00m\n\u001b[1;32m----> 6\u001b[0m app\u001b[38;5;241m=\u001b[39mFlask(_name_)\n\u001b[0;32m      8\u001b[0m \u001b[38;5;66;03m#Load trained model\u001b[39;00m\n\u001b[0;32m      9\u001b[0m model\u001b[38;5;241m=\u001b[39mjoblib\u001b[38;5;241m.\u001b[39mload(\u001b[38;5;124m'\u001b[39m\u001b[38;5;124miris_model.pkl\u001b[39m\u001b[38;5;124m'\u001b[39m)\n",
      "\u001b[1;31mNameError\u001b[0m: name '_name_' is not defined"
     ]
    }
   ],
   "source": [
    "from flask import Flask, render_template, request\n",
    "import joblib\n",
    "import numpy as np\n",
    "\n",
    "#Initialize Flask app\n",
    "app=Flask(_name_)\n",
    "\n",
    "#Load trained model\n",
    "model=joblib.load('iris_model.pkl')\n",
    "\n",
    "@app.route('/')\n",
    "def home():\n",
    "    return render_template('home.html')\n",
    "\n",
    "@app.route('/predict', methods=['POST'])\n",
    "def predict():\n",
    "    #Get data from form\n",
    "    try:\n",
    "        features=[float(request.form[f'feature{i}']) for i in range(1,5)]\n",
    "    except ValueError:\n",
    "        return_template('result.html',prediction=\"Invalid input. Please enter numeric values.\")\n",
    "    #Make prediction\n",
    "    prediction=model.predict([features])[0]\n",
    "\n",
    "    #Map prediction to class name\n",
    "    class_names=['Setosa', 'Versicolor', 'Virginica']\n",
    "    result=class_names[prediction]\n",
    "\n",
    "    return render_template('result.html', prediction=result)\n",
    "\n",
    "if _name=='main_':\n",
    "    app.run(debug=True)"
   ]
  },
  {
   "cell_type": "code",
   "execution_count": null,
   "id": "68cd8a26-dadb-4fc7-8bdf-6ade99abc7ec",
   "metadata": {},
   "outputs": [],
   "source": []
  }
 ],
 "metadata": {
  "kernelspec": {
   "display_name": "Python [conda env:base] *",
   "language": "python",
   "name": "conda-base-py"
  },
  "language_info": {
   "codemirror_mode": {
    "name": "ipython",
    "version": 3
   },
   "file_extension": ".py",
   "mimetype": "text/x-python",
   "name": "python",
   "nbconvert_exporter": "python",
   "pygments_lexer": "ipython3",
   "version": "3.12.7"
  }
 },
 "nbformat": 4,
 "nbformat_minor": 5
}
